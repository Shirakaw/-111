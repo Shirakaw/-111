{
 "cells": [
  {
   "cell_type": "code",
   "execution_count": 1,
   "id": "5b26b1a4",
   "metadata": {},
   "outputs": [],
   "source": [
    "import numpy as np\n",
    "import matplotlib.pyplot as plt\n",
    "from pylab import mpl\n",
    "\n",
    "# matplotlib没有中文字体，动态解决\n",
    "plt.rcParams['font.sans-serif'] = ['Simhei']  # 显示中文\n",
    "mpl.rcParams['axes.unicode_minus'] = False  # 解决保存图像是负号'-'显示为方块的问题"
   ]
  },
  {
   "cell_type": "code",
   "execution_count": 2,
   "id": "87845713",
   "metadata": {},
   "outputs": [],
   "source": [
    "# 导入数据\n",
    "x_data = [338., 333., 328., 207., 226., 25., 179., 60., 208., 606.]\n",
    "y_data = [640., 633., 619., 393., 428., 27., 193., 66., 226., 1591.]\n",
    "x_d = np.asarray(x_data)\n",
    "y_d = np.asarray(y_data)"
   ]
  },
  {
   "cell_type": "code",
   "execution_count": 3,
   "id": "3964ea37",
   "metadata": {},
   "outputs": [],
   "source": [
    "# 生成笛卡尔坐标\n",
    "x = np.arange(-200, -100, 1)\n",
    "y = np.arange(-5, 5, 0.1)\n",
    "Z = np.zeros((len(x), len(y)))\n",
    "X, Y = np.meshgrid(x, y)"
   ]
  },
  {
   "cell_type": "code",
   "execution_count": 4,
   "id": "e2122b3f",
   "metadata": {},
   "outputs": [],
   "source": [
    "# loss\n",
    "for i in range(len(x)):\n",
    "    for j in range(len(y)):\n",
    "        b = x[i]\n",
    "        w = y[j]\n",
    "        Z[j][i] == 0 #使得返还结果 y为列，x为行\n",
    "        for n in range(len(x_data)):\n",
    "                Z[j][i] += (y_data[n]-b-w * x_data[n]) ** 2\n",
    "        Z[j][i] /= len(x_data)"
   ]
  },
  {
   "cell_type": "code",
   "execution_count": 19,
   "id": "bd63bcb6",
   "metadata": {},
   "outputs": [],
   "source": [
    "# 计算b和w偏微分\n",
    "# Linear regression\n",
    "b = -120\n",
    "w = -4\n",
    "lr = 0.000001\n",
    "iteration = 10000\n",
    "\n",
    "b_history = [b]\n",
    "w_history = [w]\n",
    "\n",
    "lr_b=0\n",
    "lr_w=0\n",
    "#记录训练时间\n",
    "import time\n",
    "start = time.time()\n",
    "for i in range(iteration):\n",
    "    b_grad=0.0\n",
    "    w_grad=0.0\n",
    "    for n in range(len(x_data)):\n",
    "        b_grad=b_grad-2.0*(y_data[n]-n-w*x_data[n])*1.0\n",
    "        w_grad= w_grad-2.0*(y_data[n]-n-w*x_data[n])*x_data[n]\n",
    "    \n",
    "    lr_b=lr_b+b_grad**2\n",
    "    lr_w=lr_w+w_grad**2\n",
    "    #更新参数\n",
    "    b -= lr/np.sqrt(lr_b) * b_grad\n",
    "    w -= lr /np.sqrt(lr_w) * w_grad\n",
    "\n",
    "    b_history.append(b)\n",
    "    w_history.append(w)\n"
   ]
  },
  {
   "cell_type": "code",
   "execution_count": 20,
   "id": "160fa536",
   "metadata": {},
   "outputs": [
    {
     "data": {
      "image/png": "[encoded data removed]",
      "text/plain": [
       "<Figure size 432x288 with 1 Axes>"
      ]
     },
     "metadata": {
      "needs_background": "light"
     },
     "output_type": "display_data"
    }
   ],
   "source": [
    "# plot the figure\n",
    "plt.contourf(x, y, Z, 50, alpha=0.5, cmap=plt.get_cmap('jet'))  # 填充等高线\n",
    "plt.plot([-188.4], [2.67], 'x', ms=12, mew=3, color=\"orange\")\n",
    "plt.plot(b_history, w_history, 'o-', ms=3, lw=1.5, color='black')\n",
    "plt.xlim(-200, -100)\n",
    "plt.ylim(-5, 5)\n",
    "plt.xlabel(r'$b$')\n",
    "plt.ylabel(r'$w$')\n",
    "plt.title(\"线性回归\")\n",
    "plt.show()"
   ]
  },
  {
   "cell_type": "code",
   "execution_count": null,
   "id": "482dadaf",
   "metadata": {},
   "outputs": [],
   "source": []
  }
 ],
 "metadata": {
  "kernelspec": {
   "display_name": "PyCharm (MPNN)",
   "language": "python",
   "name": "pycharm-afae0765"
  },
  "language_info": {
   "codemirror_mode": {
    "name": "ipython",
    "version": 3
   },
   "file_extension": ".py",
   "mimetype": "text/x-python",
   "name": "python",
   "nbconvert_exporter": "python",
   "pygments_lexer": "ipython3",
   "version": "3.8.12"
  }
 },
 "nbformat": 4,
 "nbformat_minor": 5
}
